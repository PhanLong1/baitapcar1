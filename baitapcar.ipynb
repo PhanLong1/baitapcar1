{
  "nbformat": 4,
  "nbformat_minor": 0,
  "metadata": {
    "colab": {
      "name": "baitapcar.ipynb",
      "provenance": [],
      "authorship_tag": "ABX9TyOkrbRIaZ2rO8Xkr+nb+deB",
      "include_colab_link": true
    },
    "kernelspec": {
      "name": "python3",
      "display_name": "Python 3"
    }
  },
  "cells": [
    {
      "cell_type": "markdown",
      "metadata": {
        "id": "view-in-github",
        "colab_type": "text"
      },
      "source": [
        "<a href=\"https://colab.research.google.com/github/PhanLong1/baitapcar1/blob/main/baitapcar.ipynb\" target=\"_parent\"><img src=\"https://colab.research.google.com/assets/colab-badge.svg\" alt=\"Open In Colab\"/></a>"
      ]
    },
    {
      "cell_type": "markdown",
      "metadata": {
        "id": "GP-lc5d34NVb"
      },
      "source": [
        "Tạo lớp CAR có các thuộc tính name, color và engine"
      ]
    },
    {
      "cell_type": "code",
      "metadata": {
        "id": "4tVjaLm83MKx"
      },
      "source": [
        "class Car:\r\n",
        "  color = 'white'\r\n",
        "\r\n",
        "  def __init__(self, name, engine):\r\n",
        "    self.name = name\r\n",
        "    self.engine = engine\r\n",
        "  \r\n",
        "  def setColor(self, color):\r\n",
        "    self.color = color\r\n",
        "  \r\n",
        "  def setEngine(self, engine):\r\n",
        "    self.engine = engine\r\n",
        "  \r\n",
        "  def setName(self, name):\r\n",
        "    self.name = name\r\n",
        "  \r\n",
        "  def getEngine(self):\r\n",
        "    return self.engine\r\n",
        "  \r\n",
        "  def toString(self):\r\n",
        "    s = 'Xe {} có màu {} và động cơ {} mã lực'.format(self.name, self.color, self.engine)\r\n",
        "    return(s)"
      ],
      "execution_count": null,
      "outputs": []
    },
    {
      "cell_type": "markdown",
      "metadata": {
        "id": "X6h6bI0q4VRY"
      },
      "source": [
        "Sử dụng lớp Car"
      ]
    },
    {
      "cell_type": "code",
      "metadata": {
        "id": "E4acooP64X0P"
      },
      "source": [
        "fadil = Car('BMW ', 2.1)\r\n",
        "print(fadil.toString()) "
      ],
      "execution_count": null,
      "outputs": []
    },
    {
      "cell_type": "code",
      "metadata": {
        "id": "UNjHWnhe4kW-"
      },
      "source": [
        "fadil.setColor(\"Blue\")\r\n",
        "print(fadil.toString())"
      ],
      "execution_count": null,
      "outputs": []
    }
  ]
}